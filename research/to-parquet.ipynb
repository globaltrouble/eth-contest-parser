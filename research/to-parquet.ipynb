{
 "cells": [
  {
   "cell_type": "code",
   "execution_count": null,
   "id": "2af1041d-2712-4a7b-83ec-f754ce169b2d",
   "metadata": {},
   "outputs": [
    {
     "name": "stdout",
     "output_type": "stream",
     "text": [
      "--2023-11-28 22:54:51--  https://synchronouscap.s3.eu-west-3.amazonaws.com/obchallenge/ETHUSDT-all.zip\n",
      "Resolving synchronouscap.s3.eu-west-3.amazonaws.com (synchronouscap.s3.eu-west-3.amazonaws.com)... 52.95.154.86, 3.5.225.182\n",
      "Connecting to synchronouscap.s3.eu-west-3.amazonaws.com (synchronouscap.s3.eu-west-3.amazonaws.com)|52.95.154.86|:443... connected.\n",
      "HTTP request sent, awaiting response... 200 OK\n",
      "Length: 8364338229 (7,8G) [application/zip]\n",
      "Saving to: ‘ETHUSDT-all.zip’\n",
      "\n",
      "ETHUSDT-all.zip      11%[=>                  ] 883,76M  14,9MB/s    eta 7m 50s "
     ]
    }
   ],
   "source": [
    "!mkdir -p rawdata && cd rawdata && wget https://synchronouscap.s3.eu-west-3.amazonaws.com/obchallenge/ETHUSDT-all.zip "
   ]
  },
  {
   "cell_type": "code",
   "execution_count": null,
   "id": "5052183f-cec1-49cb-afab-19786a7f6b79",
   "metadata": {},
   "outputs": [],
   "source": [
    "!pwd"
   ]
  },
  {
   "cell_type": "code",
   "execution_count": null,
   "id": "ddb508b8-79e3-4cb4-8ef8-a76c87932aac",
   "metadata": {},
   "outputs": [],
   "source": [
    "# list all files in archive\n",
    "!unzip -l rawdata/ETHUSDT-all.zip"
   ]
  },
  {
   "cell_type": "code",
   "execution_count": null,
   "id": "06957ab2-2e49-4714-a148-5385113c0d7d",
   "metadata": {},
   "outputs": [],
   "source": [
    "!mkdir -p splitted\n",
    "# list all files             extract only file name            run bash shell for each file in parallel        unzip just selected file and compress it to gz\n",
    "!time unzip -l rawdata/ETHUSDT-all.zip | egrep '([0-9A-Za-z\\\\-]+.csv)' -o | xargs -P 8 -I{} bash -c 'echo processing {} && unzip -p rawdata/ETHUSDT-all.zip {} | gzip > splitted/{}.gz'"
   ]
  },
  {
   "cell_type": "code",
   "execution_count": null,
   "id": "46a48771-3121-4969-b29a-7d723820b9d5",
   "metadata": {},
   "outputs": [],
   "source": [
    "# parse number of columns per line\n",
    "!ls ./splitted/ | grep '\\.csv\\.gz'| time xargs -P 8 -I{} bash -c \"zcat splitted/{} | python3 -c 'import sys; print(set(map(lambda row: len(row.split(\\\",\\\")), sys.stdin)))'\" | tee > rows.txt"
   ]
  },
  {
   "cell_type": "code",
   "execution_count": null,
   "id": "01487900-18e1-4264-a883-f0fe4cd1f1ae",
   "metadata": {},
   "outputs": [],
   "source": [
    "# check each row has same number of columns\n",
    "!cat rows.txt | sort | uniq -c"
   ]
  },
  {
   "cell_type": "code",
   "execution_count": null,
   "id": "c9ffe4f5-b895-4889-8950-bb029ed3cc8c",
   "metadata": {},
   "outputs": [],
   "source": [
    "# each file contains lines with exactly 4004 columns\n",
    "#     0                        1-2             3-2002  2003-4002, 4003\n",
    "# unix time in miliseconds, unknown costants, eth-usd, coef,    <empty>"
   ]
  },
  {
   "cell_type": "code",
   "execution_count": null,
   "id": "d9b9ca67-9e16-4e4e-a882-344bbdbbcfb3",
   "metadata": {},
   "outputs": [],
   "source": [
    "# extract timestamps, some lines can have BOM char as prefix\n",
    "!zcat splitted/*.csv.gz | time python3 -c  'import sys; list(map(lambda row: print(int(row.strip().strip(\"\\ufeff\")[:13])), sys.stdin))' > tm.txt"
   ]
  },
  {
   "cell_type": "code",
   "execution_count": null,
   "id": "5f1df7f8-9324-4c1d-be4f-68c4f6a074da",
   "metadata": {},
   "outputs": [],
   "source": [
    "!wc -l tm.txt"
   ]
  },
  {
   "cell_type": "code",
   "execution_count": null,
   "id": "bd442401-bad1-40a6-8925-7cc71527f2d7",
   "metadata": {},
   "outputs": [],
   "source": [
    "with open('tm.txt') as f:\n",
    "    values = [int(v) for v in f]\n",
    "len(values)"
   ]
  },
  {
   "cell_type": "code",
   "execution_count": null,
   "id": "e325f6c5-5d3a-4894-abe8-3bf6bb8bf8f1",
   "metadata": {},
   "outputs": [],
   "source": [
    "diffs = []\n",
    "for i, val in enumerate(values):\n",
    "    if i == 0:\n",
    "        diffs.append(0)\n",
    "        continue\n",
    "    diffs.append(val - values[i-1])\n",
    "\n",
    "diffs[:10]"
   ]
  },
  {
   "cell_type": "code",
   "execution_count": null,
   "id": "89c1a1d7-7676-4a62-b80d-05fbda04c499",
   "metadata": {},
   "outputs": [],
   "source": [
    "import pandas as pd"
   ]
  },
  {
   "cell_type": "code",
   "execution_count": null,
   "id": "66828b7f-d35e-4a4a-ae77-edea3982a894",
   "metadata": {},
   "outputs": [],
   "source": [
    "df = pd.DataFrame(diffs[1:])\n",
    "df.describe(percentiles=[i / 100 for i in range(1, 100)])"
   ]
  },
  {
   "cell_type": "code",
   "execution_count": null,
   "id": "435c3e0a-8bc8-4bf7-959c-748c5b1582f0",
   "metadata": {},
   "outputs": [],
   "source": [
    "# min distance in MS between frames, also no negative dist, data is ordered\n",
    "st = list(sorted(diffs))\n",
    "st[:10]"
   ]
  },
  {
   "cell_type": "code",
   "execution_count": null,
   "id": "9fe47e3a-b9e5-424c-a969-fe602767272a",
   "metadata": {},
   "outputs": [],
   "source": [
    "# max distance in MS between frames\n",
    "st[-100:]"
   ]
  },
  {
   "cell_type": "code",
   "execution_count": null,
   "id": "7ea7a0a7-c205-4de6-b684-9e6165a7be2c",
   "metadata": {},
   "outputs": [],
   "source": [
    "!cd .. && cargo build --release"
   ]
  },
  {
   "cell_type": "code",
   "execution_count": null,
   "id": "99a3979b-2507-438a-9434-7c6fb444c4d0",
   "metadata": {},
   "outputs": [],
   "source": [
    "!du -sch splitted/*"
   ]
  },
  {
   "cell_type": "code",
   "execution_count": null,
   "id": "4f4496ea-8f48-4852-a050-8926ccc1e6a7",
   "metadata": {},
   "outputs": [],
   "source": [
    "!"
   ]
  },
  {
   "cell_type": "code",
   "execution_count": null,
   "id": "411af6a9-4d3a-4fcd-baaf-cfc563e5d353",
   "metadata": {},
   "outputs": [],
   "source": [
    "!mkdir -p sample_5s && ls splitted/ | grep '\\.csv\\.gz' | time xargs -P 8 -I{} bash -c 'echo processing {} && zcat splitted/{} | ../target/release/parse-ethusd | gzip > sample_5s/{}'"
   ]
  },
  {
   "cell_type": "code",
   "execution_count": null,
   "id": "0a9d86bc-f7ea-4e72-b10a-eed68c0c2126",
   "metadata": {},
   "outputs": [],
   "source": []
  }
 ],
 "metadata": {
  "kernelspec": {
   "display_name": "Python 3 (ipykernel)",
   "language": "python",
   "name": "python3"
  },
  "language_info": {
   "codemirror_mode": {
    "name": "ipython",
    "version": 3
   },
   "file_extension": ".py",
   "mimetype": "text/x-python",
   "name": "python",
   "nbconvert_exporter": "python",
   "pygments_lexer": "ipython3",
   "version": "3.8.10"
  }
 },
 "nbformat": 4,
 "nbformat_minor": 5
}
